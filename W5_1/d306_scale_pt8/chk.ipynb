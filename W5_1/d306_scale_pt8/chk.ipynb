{
 "cells": [
  {
   "cell_type": "code",
   "execution_count": 4,
   "metadata": {
    "collapsed": true
   },
   "outputs": [],
   "source": [
    "import sys, os\n",
    "import numpy as np\n",
    "import csv\n",
    "import pandas as pd"
   ]
  },
  {
   "cell_type": "code",
   "execution_count": 24,
   "metadata": {
    "collapsed": false
   },
   "outputs": [],
   "source": [
    "data = pd.read_csv('invoice.csv', header=0, index_col=False)"
   ]
  },
  {
   "cell_type": "code",
   "execution_count": 26,
   "metadata": {
    "collapsed": false,
    "scrolled": false
   },
   "outputs": [
    {
     "data": {
      "text/html": [
       "<div>\n",
       "<table border=\"1\" class=\"dataframe\">\n",
       "  <thead>\n",
       "    <tr style=\"text-align: right;\">\n",
       "      <th></th>\n",
       "      <th>﻿date</th>\n",
       "      <th>city</th>\n",
       "      <th>cid</th>\n",
       "      <th>industry</th>\n",
       "      <th>platform</th>\n",
       "      <th>number</th>\n",
       "      <th>amount</th>\n",
       "    </tr>\n",
       "  </thead>\n",
       "  <tbody>\n",
       "    <tr>\n",
       "      <th>0</th>\n",
       "      <td>2016/8/1</td>\n",
       "      <td>臺北市</td>\n",
       "      <td>A</td>\n",
       "      <td>不動產經營及相關服務業</td>\n",
       "      <td>無載具</td>\n",
       "      <td>32294</td>\n",
       "      <td>114100607</td>\n",
       "    </tr>\n",
       "    <tr>\n",
       "      <th>1</th>\n",
       "      <td>2016/8/1</td>\n",
       "      <td>臺北市</td>\n",
       "      <td>A</td>\n",
       "      <td>不動產開發業</td>\n",
       "      <td>無載具</td>\n",
       "      <td>1530691</td>\n",
       "      <td>2081432419</td>\n",
       "    </tr>\n",
       "    <tr>\n",
       "      <th>2</th>\n",
       "      <td>2016/8/1</td>\n",
       "      <td>臺北市</td>\n",
       "      <td>A</td>\n",
       "      <td>人力仲介及供應業</td>\n",
       "      <td>無載具</td>\n",
       "      <td>298</td>\n",
       "      <td>323149</td>\n",
       "    </tr>\n",
       "    <tr>\n",
       "      <th>3</th>\n",
       "      <td>2016/8/1</td>\n",
       "      <td>臺北市</td>\n",
       "      <td>A</td>\n",
       "      <td>企業總管理機構及管理顧問業</td>\n",
       "      <td>無載具</td>\n",
       "      <td>57535</td>\n",
       "      <td>121656544</td>\n",
       "    </tr>\n",
       "    <tr>\n",
       "      <th>4</th>\n",
       "      <td>2016/8/1</td>\n",
       "      <td>臺北市</td>\n",
       "      <td>A</td>\n",
       "      <td>住宿服務業</td>\n",
       "      <td>無載具</td>\n",
       "      <td>51913</td>\n",
       "      <td>385304092</td>\n",
       "    </tr>\n",
       "  </tbody>\n",
       "</table>\n",
       "</div>"
      ],
      "text/plain": [
       "      ﻿date city cid       industry platform   number      amount\n",
       "0  2016/8/1  臺北市   A    不動產經營及相關服務業      無載具    32294   114100607\n",
       "1  2016/8/1  臺北市   A         不動產開發業      無載具  1530691  2081432419\n",
       "2  2016/8/1  臺北市   A       人力仲介及供應業      無載具      298      323149\n",
       "3  2016/8/1  臺北市   A  企業總管理機構及管理顧問業      無載具    57535   121656544\n",
       "4  2016/8/1  臺北市   A          住宿服務業      無載具    51913   385304092"
      ]
     },
     "execution_count": 26,
     "metadata": {},
     "output_type": "execute_result"
    }
   ],
   "source": [
    "data.head()"
   ]
  },
  {
   "cell_type": "code",
   "execution_count": null,
   "metadata": {
    "collapsed": true
   },
   "outputs": [],
   "source": []
  },
  {
   "cell_type": "code",
   "execution_count": 40,
   "metadata": {
    "collapsed": false
   },
   "outputs": [],
   "source": [
    "data = pd.read_csv('68102opendata.csv')"
   ]
  },
  {
   "cell_type": "code",
   "execution_count": 41,
   "metadata": {
    "collapsed": false
   },
   "outputs": [
    {
     "data": {
      "text/html": [
       "<div>\n",
       "<table border=\"1\" class=\"dataframe\">\n",
       "  <thead>\n",
       "    <tr style=\"text-align: right;\">\n",
       "      <th></th>\n",
       "      <th>﻿癌症診斷年</th>\n",
       "      <th>性別</th>\n",
       "      <th>縣市別</th>\n",
       "      <th>癌症別</th>\n",
       "      <th>年齡標準化發生率  WHO 2000世界標準人口 (每10萬人口)</th>\n",
       "      <th>癌症發生數</th>\n",
       "      <th>平均年齡</th>\n",
       "      <th>年齡中位數</th>\n",
       "      <th>粗率 (每10萬人口)</th>\n",
       "    </tr>\n",
       "  </thead>\n",
       "  <tbody>\n",
       "    <tr>\n",
       "      <th>0</th>\n",
       "      <td>1979</td>\n",
       "      <td>不分男女</td>\n",
       "      <td>台閩地區</td>\n",
       "      <td>口腔、口咽及下咽</td>\n",
       "      <td>3.40</td>\n",
       "      <td>439</td>\n",
       "      <td>53.37</td>\n",
       "      <td>55.0</td>\n",
       "      <td>2.50</td>\n",
       "    </tr>\n",
       "    <tr>\n",
       "      <th>1</th>\n",
       "      <td>1979</td>\n",
       "      <td>不分男女</td>\n",
       "      <td>台北市</td>\n",
       "      <td>口腔、口咽及下咽</td>\n",
       "      <td>3.85</td>\n",
       "      <td>65</td>\n",
       "      <td>52.00</td>\n",
       "      <td>55.0</td>\n",
       "      <td>2.96</td>\n",
       "    </tr>\n",
       "    <tr>\n",
       "      <th>2</th>\n",
       "      <td>1979</td>\n",
       "      <td>不分男女</td>\n",
       "      <td>台中市</td>\n",
       "      <td>口腔、口咽及下咽</td>\n",
       "      <td>4.16</td>\n",
       "      <td>45</td>\n",
       "      <td>54.18</td>\n",
       "      <td>55.0</td>\n",
       "      <td>2.88</td>\n",
       "    </tr>\n",
       "    <tr>\n",
       "      <th>3</th>\n",
       "      <td>1979</td>\n",
       "      <td>不分男女</td>\n",
       "      <td>台南市</td>\n",
       "      <td>口腔、口咽及下咽</td>\n",
       "      <td>1.58</td>\n",
       "      <td>19</td>\n",
       "      <td>55.79</td>\n",
       "      <td>57.0</td>\n",
       "      <td>1.24</td>\n",
       "    </tr>\n",
       "    <tr>\n",
       "      <th>4</th>\n",
       "      <td>1979</td>\n",
       "      <td>不分男女</td>\n",
       "      <td>高雄市</td>\n",
       "      <td>口腔、口咽及下咽</td>\n",
       "      <td>2.10</td>\n",
       "      <td>32</td>\n",
       "      <td>48.56</td>\n",
       "      <td>50.0</td>\n",
       "      <td>1.49</td>\n",
       "    </tr>\n",
       "  </tbody>\n",
       "</table>\n",
       "</div>"
      ],
      "text/plain": [
       "   ﻿癌症診斷年    性別   縣市別       癌症別  年齡標準化發生率  WHO 2000世界標準人口 (每10萬人口)   癌症發生數  \\\n",
       "0    1979  不分男女  台閩地區  口腔、口咽及下咽                                3.40    439   \n",
       "1    1979  不分男女   台北市  口腔、口咽及下咽                                3.85     65   \n",
       "2    1979  不分男女   台中市  口腔、口咽及下咽                                4.16     45   \n",
       "3    1979  不分男女   台南市  口腔、口咽及下咽                                1.58     19   \n",
       "4    1979  不分男女   高雄市  口腔、口咽及下咽                                2.10     32   \n",
       "\n",
       "    平均年齡  年齡中位數  粗率 (每10萬人口)  \n",
       "0  53.37   55.0         2.50  \n",
       "1  52.00   55.0         2.96  \n",
       "2  54.18   55.0         2.88  \n",
       "3  55.79   57.0         1.24  \n",
       "4  48.56   50.0         1.49  "
      ]
     },
     "execution_count": 41,
     "metadata": {},
     "output_type": "execute_result"
    }
   ],
   "source": [
    "data.head()"
   ]
  },
  {
   "cell_type": "code",
   "execution_count": 42,
   "metadata": {
    "collapsed": false
   },
   "outputs": [
    {
     "data": {
      "text/plain": [
       "(74044, 9)"
      ]
     },
     "execution_count": 42,
     "metadata": {},
     "output_type": "execute_result"
    }
   ],
   "source": [
    "data.shape"
   ]
  },
  {
   "cell_type": "code",
   "execution_count": 43,
   "metadata": {
    "collapsed": false
   },
   "outputs": [
    {
     "data": {
      "text/plain": [
       "0        439\n",
       "1         65\n",
       "2         45\n",
       "3         19\n",
       "4         32\n",
       "5         10\n",
       "6         10\n",
       "7          8\n",
       "8         47\n",
       "9         21\n",
       "10         4\n",
       "11        10\n",
       "12         3\n",
       "13        55\n",
       "14        10\n",
       "15        15\n",
       "16        12\n",
       "17        25\n",
       "18         2\n",
       "19         9\n",
       "20        17\n",
       "21       364\n",
       "22        42\n",
       "23        42\n",
       "24        17\n",
       "25        23\n",
       "26         9\n",
       "27         8\n",
       "28         7\n",
       "29        43\n",
       "        ... \n",
       "74014     10\n",
       "74015     18\n",
       "74016      7\n",
       "74017      7\n",
       "74018      9\n",
       "74019     10\n",
       "74020      4\n",
       "74021      4\n",
       "74022      2\n",
       "74023    226\n",
       "74024     32\n",
       "74025     21\n",
       "74026     14\n",
       "74027     31\n",
       "74028      4\n",
       "74029      7\n",
       "74030      1\n",
       "74031     41\n",
       "74032     14\n",
       "74033      6\n",
       "74034      3\n",
       "74035      2\n",
       "74036     11\n",
       "74037      8\n",
       "74038     10\n",
       "74039      4\n",
       "74040      9\n",
       "74041      1\n",
       "74042      5\n",
       "74043      2\n",
       "Name: 癌症發生數, dtype: int64"
      ]
     },
     "execution_count": 43,
     "metadata": {},
     "output_type": "execute_result"
    }
   ],
   "source": [
    "data.癌症發生數"
   ]
  },
  {
   "cell_type": "code",
   "execution_count": null,
   "metadata": {
    "collapsed": true
   },
   "outputs": [],
   "source": []
  }
 ],
 "metadata": {
  "anaconda-cloud": {},
  "kernelspec": {
   "display_name": "Python [default]",
   "language": "python",
   "name": "python3"
  },
  "language_info": {
   "codemirror_mode": {
    "name": "ipython",
    "version": 3
   },
   "file_extension": ".py",
   "mimetype": "text/x-python",
   "name": "python",
   "nbconvert_exporter": "python",
   "pygments_lexer": "ipython3",
   "version": "3.5.2"
  }
 },
 "nbformat": 4,
 "nbformat_minor": 1
}
